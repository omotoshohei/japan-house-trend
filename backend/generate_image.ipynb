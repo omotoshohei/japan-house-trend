{
 "cells": [
  {
   "cell_type": "code",
   "execution_count": 13,
   "id": "8149f5e0",
   "metadata": {},
   "outputs": [],
   "source": [
    "import pandas as pd\n",
    "import numpy as np\n",
    "import matplotlib.pyplot as plt\n",
    "import japanize_matplotlib\n",
    "from matplotlib.ticker import MaxNLocator"
   ]
  },
  {
   "cell_type": "code",
   "execution_count": 2,
   "id": "4dd97ddd",
   "metadata": {},
   "outputs": [
    {
     "name": "stderr",
     "output_type": "stream",
     "text": [
      "/var/folders/_n/cr9xqtgn70g_tclcyk9hd0nw0000gn/T/ipykernel_7312/900451068.py:1: DtypeWarning: Columns (8) have mixed types. Specify dtype option on import or set low_memory=False.\n",
      "  df_tokyo = pd.read_csv('../data/tokyo_20071_20234_preprocessed.csv', encoding=\"utf-8\", on_bad_lines='skip')\n"
     ]
    }
   ],
   "source": [
    "df_tokyo = pd.read_csv('../data/tokyo_20071_20234_preprocessed.csv', encoding=\"utf-8\", on_bad_lines='skip')"
   ]
  },
  {
   "cell_type": "code",
   "execution_count": 3,
   "id": "8daf1d99",
   "metadata": {},
   "outputs": [],
   "source": [
    "df_chiba = pd.read_csv('../data/chiba_20071_20234_preprocessed.csv', encoding=\"utf-8\", on_bad_lines='skip')"
   ]
  },
  {
   "cell_type": "code",
   "execution_count": 14,
   "id": "b027e802",
   "metadata": {},
   "outputs": [],
   "source": [
    "room_types = [\"ALL\",\"４ＬＤＫ\",\"３ＬＤＫ\", \"２ＬＤＫ\", \"１ＬＤＫ\", \"１Ｋ\"]  # Include all room types and an option for all"
   ]
  },
  {
   "cell_type": "code",
   "execution_count": 8,
   "id": "76eb6ebe",
   "metadata": {},
   "outputs": [],
   "source": [
    "# Tokyo Data in Japanese\n",
    "for area in df_tokyo['市区町村名'].unique():\n",
    "    for room_type in room_types:\n",
    "        # Filter data by area and room type, if not 'All'\n",
    "        if room_type != \"ALL\":\n",
    "            df_tokyo_filtered = df_tokyo[(df_tokyo['市区町村名'] == area) & (df_tokyo['間取り'] == room_type)]\n",
    "        else:\n",
    "            df_tokyo_filtered = df_tokyo[df_tokyo['市区町村名'] == area]\n",
    "        \n",
    "        # Group by year to calculate average price and count\n",
    "        area_yearly_average_price = df_tokyo_filtered.groupby('取引時期（年）')['取引価格（総額）'].mean()\n",
    "        area_yearly_count = df_tokyo_filtered.groupby('取引時期（年）')['取引価格（総額）'].count()\n",
    "        \n",
    "        # Create and configure the plot\n",
    "        plt.figure(figsize=(12, 8))\n",
    "        ax1 = plt.gca()\n",
    "        ax1.plot(area_yearly_average_price.index, area_yearly_average_price.values, color='red', label='Average Price')\n",
    "        ax1.set_xlabel('Year')\n",
    "        ax1.set_ylabel('平均取引価格（万円）', color='darkred')\n",
    "        ax1.tick_params(axis='y', labelcolor='darkred')\n",
    "        ax1.xaxis.set_major_locator(MaxNLocator(integer=True))  # Ensure x-axis labels are integers\n",
    "        ax1.set_ylim(0, 15000)  # Set y-axis limits\n",
    "        \n",
    "        ax2 = ax1.twinx()\n",
    "        ax2.bar(area_yearly_count.index, area_yearly_count.values, color='lightblue', label='Transaction Count', width=0.4, alpha=0.5)\n",
    "        ax2.set_ylabel('取引回数', color='darkblue')\n",
    "        ax2.tick_params(axis='y', labelcolor='darkblue')\n",
    "        ax2.set_ylim(0, 2000)  # Set y-axis limits\n",
    "        \n",
    "        plt.title(f'{area} - {room_type}の平均取引価格と取引件数の推移')\n",
    "        plt.grid(True)\n",
    "        lines, labels = ax1.get_legend_handles_labels()\n",
    "        lines2, labels2 = ax2.get_legend_handles_labels()\n",
    "        ax2.legend(lines + lines2, labels + labels2, loc='upper left')\n",
    "        \n",
    "        # Save the figure with a filename that includes the area and room type\n",
    "        plt.savefig(f'../../../heysho/img/tool/house-trend/tokyo_{area}_{room_type}_jp.png')  # Modify path as necessary\n",
    "        plt.close()  # Close the figure to free memory\n"
   ]
  },
  {
   "cell_type": "code",
   "execution_count": 10,
   "id": "af23f832",
   "metadata": {},
   "outputs": [],
   "source": [
    "# Chiba Data in Japanese\n",
    "\n",
    "for area in df_chiba['市区町村名'].unique():\n",
    "    for room_type in room_types:\n",
    "        # Filter data by area and room type, if not 'All'\n",
    "        if room_type != \"ALL\":\n",
    "            df_chiba_filtered = df_chiba[(df_chiba['市区町村名'] == area) & (df_chiba['間取り'] == room_type)]\n",
    "        else:\n",
    "            df_chiba_filtered = df_chiba[df_chiba['市区町村名'] == area]\n",
    "        \n",
    "        # Group by year to calculate average price and count\n",
    "        area_yearly_average_price = df_chiba_filtered.groupby('取引時期（年）')['取引価格（総額）'].mean()\n",
    "        area_yearly_count = df_chiba_filtered.groupby('取引時期（年）')['取引価格（総額）'].count()\n",
    "        \n",
    "        # Create and configure the plot\n",
    "        plt.figure(figsize=(12, 8))\n",
    "        ax1 = plt.gca()\n",
    "        ax1.plot(area_yearly_average_price.index, area_yearly_average_price.values, color='red', label='Average Price')\n",
    "        ax1.set_xlabel('Year')\n",
    "        ax1.set_ylabel('平均取引価格（万円）', color='darkred')\n",
    "        ax1.tick_params(axis='y', labelcolor='darkred')\n",
    "        ax1.xaxis.set_major_locator(MaxNLocator(integer=True))  # Ensure x-axis labels are integers\n",
    "        ax1.set_ylim(0,5000)  # Set y-axis limits\n",
    "        \n",
    "        ax2 = ax1.twinx()\n",
    "        ax2.bar(area_yearly_count.index, area_yearly_count.values, color='lightblue', label='Transaction Count', width=0.4, alpha=0.5)\n",
    "        ax2.set_ylabel('取引回数', color='darkblue')\n",
    "        ax2.tick_params(axis='y', labelcolor='darkblue')\n",
    "        ax2.set_ylim(0, 600)  # Set y-axis limits\n",
    "        \n",
    "        plt.title(f'{area} - {room_type}の平均取引価格と取引件数の推移')\n",
    "        plt.grid(True)\n",
    "        lines, labels = ax1.get_legend_handles_labels()\n",
    "        lines2, labels2 = ax2.get_legend_handles_labels()\n",
    "        ax2.legend(lines + lines2, labels + labels2, loc='upper left')\n",
    "        \n",
    "        # Save the figure with a filename that includes the area and room type\n",
    "        plt.savefig(f'../../../heysho/img/tool/house-trend/chiba_{area}_{room_type}_jp.png')  # Modify path as necessary\n",
    "        plt.close()  # Close the figure to free memory\n"
   ]
  },
  {
   "cell_type": "code",
   "execution_count": 23,
   "id": "6e5db9bf",
   "metadata": {},
   "outputs": [],
   "source": [
    "# Tokyo Data in English\n",
    "\n",
    "for area in df_tokyo['市区町村名'].unique():\n",
    "    for room_type in room_types:\n",
    "        # Filter data by area and room type, if not 'All'\n",
    "        if room_type != \"ALL\":\n",
    "            df_tokyo_filtered = df_tokyo[(df_tokyo['市区町村名'] == area) & (df_tokyo['間取り'] == room_type)]\n",
    "        else:\n",
    "            df_tokyo_filtered = df_tokyo[df_tokyo['市区町村名'] == area]\n",
    "        \n",
    "        # Group by year to calculate average price and count\n",
    "        area_yearly_average_price = df_tokyo_filtered.groupby('取引時期（年）')['取引価格（総額）'].mean()\n",
    "        area_yearly_count = df_tokyo_filtered.groupby('取引時期（年）')['取引価格（総額）'].count()\n",
    "        \n",
    "        # Create and configure the plot\n",
    "        plt.figure(figsize=(12, 8))\n",
    "        ax1 = plt.gca()\n",
    "        ax1.plot(area_yearly_average_price.index, area_yearly_average_price.values, color='red', label='Average Price')\n",
    "        ax1.set_xlabel('Year')\n",
    "        ax1.set_ylabel('Average Transaction Price（万円）', color='darkred')\n",
    "        ax1.tick_params(axis='y', labelcolor='darkred')\n",
    "        ax1.xaxis.set_major_locator(MaxNLocator(integer=True))  # Ensure x-axis labels are integers\n",
    "        \n",
    "        ax2 = ax1.twinx()\n",
    "        ax2.bar(area_yearly_count.index, area_yearly_count.values, color='lightblue', label='Transaction Count', width=0.4, alpha=0.5)\n",
    "        ax2.set_ylabel('Number of transactions', color='darkblue')\n",
    "        ax2.tick_params(axis='y', labelcolor='darkblue')\n",
    "        \n",
    "        plt.title(f'{area} - The trend of the average transaction price and the number of transactions for {room_type}')\n",
    "        plt.grid(True)\n",
    "        lines, labels = ax1.get_legend_handles_labels()\n",
    "        lines2, labels2 = ax2.get_legend_handles_labels()\n",
    "        ax2.legend(lines + lines2, labels + labels2, loc='upper left')\n",
    "        \n",
    "        # Save the figure with a filename that includes the area and room type\n",
    "        plt.savefig(f'../../../heysho/img/tool/house-trend/tokyo_{area}_{room_type}_en.png')  # Modify path as necessary\n",
    "        plt.close()  # Close the figure to free memory"
   ]
  },
  {
   "cell_type": "code",
   "execution_count": 26,
   "id": "0c607843",
   "metadata": {},
   "outputs": [],
   "source": [
    "# Chiba Data in English\n",
    "for area in df_chiba['市区町村名'].unique():\n",
    "    df_chiba_filtered = df_chiba[df_chiba['市区町村名'] == area]\n",
    "    area_yearly_average_price = df_chiba_filtered.groupby('取引時期（年）')['取引価格（総額）'].mean()\n",
    "    area_yearly_count = df_chiba_filtered.groupby('取引時期（年）')['取引価格（総額）'].count()\n",
    "    plt.figure(figsize=(12, 8))\n",
    "    ax1 = plt.gca()\n",
    "    ax1.plot(area_yearly_average_price.index, area_yearly_average_price.values, color='red', label='Average Price')\n",
    "    ax1.set_xlabel('Year')\n",
    "    ax1.set_ylabel('Average Transaction Price（万円）', color='darkred')\n",
    "    ax1.tick_params(axis='y', labelcolor='darkred')\n",
    "    ax1.xaxis.set_major_locator(MaxNLocator(integer=True))  # Ensuring x-axis labels are integers\n",
    "\n",
    "    ax2 = ax1.twinx()\n",
    "    ax2.bar(area_yearly_count.index, area_yearly_count.values, color='lightblue', label='Transaction Count', width=0.4, alpha=0.5)\n",
    "    ax2.set_ylabel('Number of transactions', color='darkblue')\n",
    "    ax2.tick_params(axis='y', labelcolor='darkblue')\n",
    "    \n",
    "    plt.title(f'The trend of the average transaction price and the number of transactions in {area}')\n",
    "    plt.grid(True)\n",
    "    lines, labels = ax1.get_legend_handles_labels()\n",
    "    lines2, labels2 = ax2.get_legend_handles_labels()\n",
    "    ax2.legend(lines + lines2, labels + labels2, loc='upper left')\n",
    "    plt.savefig(f'../../../heysho/img/tool/house-trend/chiba_{area}_en.png')  # Save the figure\n",
    "    plt.close()  # Close the figure to free memory"
   ]
  },
  {
   "cell_type": "code",
   "execution_count": 4,
   "id": "760f7184",
   "metadata": {},
   "outputs": [
    {
     "data": {
      "text/plain": [
       "array(['千代田区', '中央区', '港区', '新宿区', '文京区', '台東区', '墨田区', '江東区', '品川区',\n",
       "       '目黒区', '大田区', '世田谷区', '渋谷区', '中野区', '杉並区', '豊島区', '北区', '荒川区',\n",
       "       '板橋区', '練馬区', '足立区', '葛飾区', '江戸川区', '八王子市', '立川市', '武蔵野市', '三鷹市',\n",
       "       '青梅市', '府中市', '昭島市', '調布市', '町田市', '小金井市', '小平市', '日野市', '東村山市',\n",
       "       '国分寺市', '国立市', '福生市', '狛江市', '東大和市', '清瀬市', '東久留米市', '武蔵村山市',\n",
       "       '多摩市', '稲城市', '羽村市', 'あきる野市', '西東京市', '西多摩郡瑞穂町', '西多摩郡奥多摩町'],\n",
       "      dtype=object)"
      ]
     },
     "execution_count": 4,
     "metadata": {},
     "output_type": "execute_result"
    }
   ],
   "source": [
    "df_tokyo['市区町村名'].unique()"
   ]
  },
  {
   "cell_type": "markdown",
   "id": "39821a20",
   "metadata": {},
   "source": [
    "# Saitama"
   ]
  },
  {
   "cell_type": "code",
   "execution_count": 16,
   "id": "bd2d6586",
   "metadata": {},
   "outputs": [],
   "source": [
    "df_saitama = pd.read_csv('../data/saitama_20071_20234_preprocessed.csv', encoding=\"utf-8\", on_bad_lines='skip')"
   ]
  },
  {
   "cell_type": "code",
   "execution_count": 20,
   "id": "dadc3e68",
   "metadata": {},
   "outputs": [],
   "source": [
    "# Saitama Data in Japanese\n",
    "for area in df_saitama['市区町村名'].unique():\n",
    "    for room_type in room_types:\n",
    "        # Filter data by area and room type, if not 'All'\n",
    "        if room_type != \"ALL\":\n",
    "            df_saitama_filtered = df_saitama[(df_saitama['市区町村名'] == area) & (df_saitama['間取り'] == room_type)]\n",
    "        else:\n",
    "            df_saitama_filtered = df_saitama[df_saitama['市区町村名'] == area]\n",
    "        \n",
    "        # Group by year to calculate average price and count\n",
    "        area_yearly_average_price = df_saitama_filtered.groupby('取引時期（年）')['取引価格（総額）'].mean()\n",
    "        area_yearly_count = df_saitama_filtered.groupby('取引時期（年）')['取引価格（総額）'].count()\n",
    "        \n",
    "        # Create and configure the plot\n",
    "        plt.figure(figsize=(12, 8))\n",
    "        ax1 = plt.gca()\n",
    "        ax1.plot(area_yearly_average_price.index, area_yearly_average_price.values, color='red', label='Average Price')\n",
    "        ax1.set_xlabel('Year')\n",
    "        ax1.set_ylabel('平均取引価格（万円）', color='darkred')\n",
    "        ax1.tick_params(axis='y', labelcolor='darkred')\n",
    "        ax1.xaxis.set_major_locator(MaxNLocator(integer=True))  # Ensure x-axis labels are integers\n",
    "        ax1.set_ylim(0, 5000)  # Set y-axis limits\n",
    "        \n",
    "        ax2 = ax1.twinx()\n",
    "        ax2.bar(area_yearly_count.index, area_yearly_count.values, color='lightblue', label='Transaction Count', width=0.4, alpha=0.5)\n",
    "        ax2.set_ylabel('取引回数', color='darkblue')\n",
    "        ax2.tick_params(axis='y', labelcolor='darkblue')\n",
    "        ax2.set_ylim(0, 600)  # Set y-axis limits\n",
    "        \n",
    "        plt.title(f'{area} - {room_type}の平均取引価格と取引件数の推移')\n",
    "        plt.grid(True)\n",
    "        lines, labels = ax1.get_legend_handles_labels()\n",
    "        lines2, labels2 = ax2.get_legend_handles_labels()\n",
    "        ax2.legend(lines + lines2, labels + labels2, loc='upper left')\n",
    "        \n",
    "        # Save the figure with a filename that includes the area and room type\n",
    "        plt.savefig(f'../../../heysho/img/tool/house-trend/saitama_{area}_{room_type}_jp.png')  # Modify path as necessary\n",
    "        plt.close()  # Close the figure to free memory\n"
   ]
  },
  {
   "cell_type": "markdown",
   "id": "6619a639",
   "metadata": {},
   "source": [
    "# Osaka"
   ]
  },
  {
   "cell_type": "code",
   "execution_count": 21,
   "id": "aab092e2",
   "metadata": {},
   "outputs": [
    {
     "name": "stderr",
     "output_type": "stream",
     "text": [
      "/var/folders/_n/cr9xqtgn70g_tclcyk9hd0nw0000gn/T/ipykernel_7312/922846992.py:1: DtypeWarning: Columns (8) have mixed types. Specify dtype option on import or set low_memory=False.\n",
      "  df_osaka = pd.read_csv('../data/osaka_20071_20234_preprocessed.csv', encoding=\"utf-8\", on_bad_lines='skip')\n"
     ]
    }
   ],
   "source": [
    "df_osaka = pd.read_csv('../data/osaka_20071_20234_preprocessed.csv', encoding=\"utf-8\", on_bad_lines='skip')"
   ]
  },
  {
   "cell_type": "code",
   "execution_count": 29,
   "id": "8199ee42",
   "metadata": {},
   "outputs": [],
   "source": [
    "# Osaka Data in Japanese\n",
    "for area in df_osaka['市区町村名'].unique():\n",
    "    for room_type in room_types:\n",
    "        # Filter data by area and room type, if not 'All'\n",
    "        if room_type != \"ALL\":\n",
    "            df_osaka_filtered = df_osaka[(df_osaka['市区町村名'] == area) & (df_osaka['間取り'] == room_type)]\n",
    "        else:\n",
    "            df_osaka_filtered = df_osaka[df_osaka['市区町村名'] == area]\n",
    "        \n",
    "        # Group by year to calculate average price and count\n",
    "        area_yearly_average_price = df_osaka_filtered.groupby('取引時期（年）')['取引価格（総額）'].mean()\n",
    "        area_yearly_count = df_osaka_filtered.groupby('取引時期（年）')['取引価格（総額）'].count()\n",
    "        \n",
    "        # Create and configure the plot\n",
    "        plt.figure(figsize=(12, 8))\n",
    "        ax1 = plt.gca()\n",
    "        ax1.plot(area_yearly_average_price.index, area_yearly_average_price.values, color='red', label='Average Price')\n",
    "        ax1.set_xlabel('Year')\n",
    "        ax1.set_ylabel('平均取引価格（万円）', color='darkred')\n",
    "        ax1.tick_params(axis='y', labelcolor='darkred')\n",
    "        ax1.xaxis.set_major_locator(MaxNLocator(integer=True))  # Ensure x-axis labels are integers\n",
    "        ax1.set_ylim(0, 6000)  # Set y-axis limits\n",
    "        \n",
    "        ax2 = ax1.twinx()\n",
    "        ax2.bar(area_yearly_count.index, area_yearly_count.values, color='lightblue', label='Transaction Count', width=0.4, alpha=0.5)\n",
    "        ax2.set_ylabel('取引回数', color='darkblue')\n",
    "        ax2.tick_params(axis='y', labelcolor='darkblue')\n",
    "        ax2.set_ylim(0, 800)  # Set y-axis limits\n",
    "        \n",
    "        plt.title(f'{area} - {room_type}の平均取引価格と取引件数の推移')\n",
    "        plt.grid(True)\n",
    "        lines, labels = ax1.get_legend_handles_labels()\n",
    "        lines2, labels2 = ax2.get_legend_handles_labels()\n",
    "        ax2.legend(lines + lines2, labels + labels2, loc='upper left')\n",
    "        \n",
    "        # Save the figure with a filename that includes the area and room type\n",
    "        plt.savefig(f'../../../heysho/img/tool/house-trend/osaka_{area}_{room_type}_jp.png')  # Modify path as necessary\n",
    "        plt.close()  # Close the figure to free memory"
   ]
  },
  {
   "cell_type": "markdown",
   "id": "52a743f4",
   "metadata": {},
   "source": [
    "# Aichi"
   ]
  },
  {
   "cell_type": "code",
   "execution_count": 24,
   "id": "20bc32e4",
   "metadata": {},
   "outputs": [],
   "source": [
    "df_aichi = pd.read_csv('../data/aichi_20071_20234_preprocessed.csv', encoding=\"utf-8\", on_bad_lines='skip')"
   ]
  },
  {
   "cell_type": "code",
   "execution_count": 25,
   "id": "4287e47f",
   "metadata": {},
   "outputs": [],
   "source": [
    "# Aichi Data in Japanese\n",
    "for area in df_aichi['市区町村名'].unique():\n",
    "    for room_type in room_types:\n",
    "        # Filter data by area and room type, if not 'All'\n",
    "        if room_type != \"ALL\":\n",
    "            df_aichi_filtered = df_aichi[(df_aichi['市区町村名'] == area) & (df_aichi['間取り'] == room_type)]\n",
    "        else:\n",
    "            df_aichi_filtered = df_aichi[df_aichi['市区町村名'] == area]\n",
    "        \n",
    "        # Group by year to calculate average price and count\n",
    "        area_yearly_average_price = df_aichi_filtered.groupby('取引時期（年）')['取引価格（総額）'].mean()\n",
    "        area_yearly_count = df_aichi_filtered.groupby('取引時期（年）')['取引価格（総額）'].count()\n",
    "        \n",
    "        # Create and configure the plot\n",
    "        plt.figure(figsize=(12, 8))\n",
    "        ax1 = plt.gca()\n",
    "        ax1.plot(area_yearly_average_price.index, area_yearly_average_price.values, color='red', label='Average Price')\n",
    "        ax1.set_xlabel('Year')\n",
    "        ax1.set_ylabel('平均取引価格（万円）', color='darkred')\n",
    "        ax1.tick_params(axis='y', labelcolor='darkred')\n",
    "        ax1.xaxis.set_major_locator(MaxNLocator(integer=True))  # Ensure x-axis labels are integers\n",
    "        ax1.set_ylim(0, 5000)  # Set y-axis limits\n",
    "        \n",
    "        ax2 = ax1.twinx()\n",
    "        ax2.bar(area_yearly_count.index, area_yearly_count.values, color='lightblue', label='Transaction Count', width=0.4, alpha=0.5)\n",
    "        ax2.set_ylabel('取引回数', color='darkblue')\n",
    "        ax2.tick_params(axis='y', labelcolor='darkblue')\n",
    "        ax2.set_ylim(0, 600)  # Set y-axis limits\n",
    "        \n",
    "        plt.title(f'{area} - {room_type}の平均取引価格と取引件数の推移')\n",
    "        plt.grid(True)\n",
    "        lines, labels = ax1.get_legend_handles_labels()\n",
    "        lines2, labels2 = ax2.get_legend_handles_labels()\n",
    "        ax2.legend(lines + lines2, labels + labels2, loc='upper left')\n",
    "        \n",
    "        # Save the figure with a filename that includes the area and room type\n",
    "        plt.savefig(f'../../../heysho/img/tool/house-trend/aichi_{area}_{room_type}_jp.png')  # Modify path as necessary\n",
    "        plt.close()  # Close the figure to free memory"
   ]
  },
  {
   "cell_type": "markdown",
   "id": "a1c9f726",
   "metadata": {},
   "source": [
    "# Kanagawa"
   ]
  },
  {
   "cell_type": "code",
   "execution_count": 26,
   "id": "6c0e1a7a",
   "metadata": {},
   "outputs": [],
   "source": [
    "df_kanagawa = pd.read_csv('../data/kanagawa_20071_20234_preprocessed.csv', encoding=\"utf-8\", on_bad_lines='skip')"
   ]
  },
  {
   "cell_type": "code",
   "execution_count": 28,
   "id": "1debb134",
   "metadata": {},
   "outputs": [],
   "source": [
    "# Kanagawa Data in Japanese\n",
    "for area in df_kanagawa['市区町村名'].unique():\n",
    "    for room_type in room_types:\n",
    "        # Filter data by area and room type, if not 'All'\n",
    "        if room_type != \"ALL\":\n",
    "            df_kanagawa_filtered = df_kanagawa[(df_kanagawa['市区町村名'] == area) & (df_kanagawa['間取り'] == room_type)]\n",
    "        else:\n",
    "            df_kanagawa_filtered = df_kanagawa[df_kanagawa['市区町村名'] == area]\n",
    "        \n",
    "        # Group by year to calculate average price and count\n",
    "        area_yearly_average_price = df_kanagawa_filtered.groupby('取引時期（年）')['取引価格（総額）'].mean()\n",
    "        area_yearly_count = df_kanagawa_filtered.groupby('取引時期（年）')['取引価格（総額）'].count()\n",
    "        \n",
    "        # Create and configure the plot\n",
    "        plt.figure(figsize=(12, 8))\n",
    "        ax1 = plt.gca()\n",
    "        ax1.plot(area_yearly_average_price.index, area_yearly_average_price.values, color='red', label='Average Price')\n",
    "        ax1.set_xlabel('Year')\n",
    "        ax1.set_ylabel('平均取引価格（万円）', color='darkred')\n",
    "        ax1.tick_params(axis='y', labelcolor='darkred')\n",
    "        ax1.xaxis.set_major_locator(MaxNLocator(integer=True))  # Ensure x-axis labels are integers\n",
    "        ax1.set_ylim(0, 8000)  # Set y-axis limits\n",
    "        \n",
    "        ax2 = ax1.twinx()\n",
    "        ax2.bar(area_yearly_count.index, area_yearly_count.values, color='lightblue', label='Transaction Count', width=0.4, alpha=0.5)\n",
    "        ax2.set_ylabel('取引回数', color='darkblue')\n",
    "        ax2.tick_params(axis='y', labelcolor='darkblue')\n",
    "        ax2.set_ylim(0, 800)  # Set y-axis limits\n",
    "        \n",
    "        plt.title(f'{area} - {room_type}の平均取引価格と取引件数の推移')\n",
    "        plt.grid(True)\n",
    "        lines, labels = ax1.get_legend_handles_labels()\n",
    "        lines2, labels2 = ax2.get_legend_handles_labels()\n",
    "        ax2.legend(lines + lines2, labels + labels2, loc='upper left')\n",
    "        \n",
    "        # Save the figure with a filename that includes the area and room type\n",
    "        plt.savefig(f'../../../heysho/img/tool/house-trend/kanagawa_{area}_{room_type}_jp.png')  # Modify path as necessary\n",
    "        plt.close()  # Close the figure to free memory"
   ]
  },
  {
   "cell_type": "code",
   "execution_count": null,
   "id": "cf8818bf",
   "metadata": {},
   "outputs": [],
   "source": []
  }
 ],
 "metadata": {
  "kernelspec": {
   "display_name": "Python 3 (ipykernel)",
   "language": "python",
   "name": "python3"
  },
  "language_info": {
   "codemirror_mode": {
    "name": "ipython",
    "version": 3
   },
   "file_extension": ".py",
   "mimetype": "text/x-python",
   "name": "python",
   "nbconvert_exporter": "python",
   "pygments_lexer": "ipython3",
   "version": "3.10.6"
  },
  "toc": {
   "base_numbering": 1,
   "nav_menu": {},
   "number_sections": true,
   "sideBar": true,
   "skip_h1_title": false,
   "title_cell": "Table of Contents",
   "title_sidebar": "Contents",
   "toc_cell": false,
   "toc_position": {},
   "toc_section_display": true,
   "toc_window_display": false
  }
 },
 "nbformat": 4,
 "nbformat_minor": 5
}

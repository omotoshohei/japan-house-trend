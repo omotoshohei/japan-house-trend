{
 "cells": [
  {
   "cell_type": "code",
   "execution_count": null,
   "id": "b2cc9138",
   "metadata": {},
   "outputs": [],
   "source": [
    "# import pandas as pd\n",
    "# import numpy as np\n",
    "# import matplotlib.pyplot as plt\n",
    "# import japanize_matplotlib\n",
    "\n",
    "# # Load data\n",
    "# df_chiba = pd.read_csv('../data/chiba_20071_20234_preprocessed.csv', encoding=\"utf-8\", on_bad_lines='skip')\n",
    "# df_tokyo = pd.read_csv('../data/tokyo_20071_20234_preprocessed.csv', encoding=\"utf-8\", on_bad_lines='skip')\n",
    "\n",
    "# # Function to plot and save graphs for each area\n",
    "# def plot_and_save(df, prefecture_name):\n",
    "#     for area in df['市区町村名'].unique():\n",
    "#         df_filtered = df[df['市区町村名'] == area]\n",
    "#         area_yearly_average_price = df_filtered.groupby('取引時期（年）')['取引価格（総額）'].mean()\n",
    "#         area_yearly_count = df_filtered.groupby('取引時期（年）')['取引価格（総額）'].count()\n",
    "\n",
    "#         plt.figure(figsize=(12, 8))\n",
    "#         ax1 = plt.gca()\n",
    "#         ax1.plot(area_yearly_average_price.index, area_yearly_average_price.values, color='red', label='Average Price')\n",
    "#         ax1.set_xlabel('Year')\n",
    "#         ax1.set_ylabel('平均取引価格（万円）', color='red')\n",
    "#         ax1.tick_params(axis='y', labelcolor='red')\n",
    "\n",
    "#         ax2 = ax1.twinx()\n",
    "#         ax2.bar(area_yearly_count.index, area_yearly_count.values, color='lightblue', label='Transaction Count', width=0.4)\n",
    "#         ax2.set_ylabel('取引回数', color='blue')\n",
    "#         ax2.tick_params(axis='y', labelcolor='blue')\n",
    "\n",
    "#         plt.title(f'Combined Trend of Housing Prices and Transaction Counts in {area}')\n",
    "#         plt.grid(True)\n",
    "#         lines, labels = ax1.get_legend_handles_labels()\n",
    "#         lines2, labels2 = ax2.get_legend_handles_labels()\n",
    "#         ax2.legend(lines + lines2, labels + labels2, loc='upper left')\n",
    "#         plt.savefig(f'./data/output/{prefecture_name}_{area}.png')  # Save the figure\n",
    "#         plt.close()  # Close the figure to free memory\n",
    "\n",
    "# # Plot and save for both prefectures\n",
    "# plot_and_save(df_chiba, 'Chiba')\n",
    "# plot_and_save(df_tokyo, 'Tokyo')"
   ]
  },
  {
   "cell_type": "code",
   "execution_count": 1,
   "id": "8149f5e0",
   "metadata": {},
   "outputs": [],
   "source": [
    "import pandas as pd\n",
    "import numpy as np\n",
    "import matplotlib.pyplot as plt\n",
    "import japanize_matplotlib"
   ]
  },
  {
   "cell_type": "code",
   "execution_count": 2,
   "id": "4dd97ddd",
   "metadata": {},
   "outputs": [
    {
     "name": "stderr",
     "output_type": "stream",
     "text": [
      "/var/folders/_n/cr9xqtgn70g_tclcyk9hd0nw0000gn/T/ipykernel_13551/1799527700.py:2: DtypeWarning: Columns (8) have mixed types. Specify dtype option on import or set low_memory=False.\n",
      "  df_tokyo = pd.read_csv('../data/tokyo_20071_20234_preprocessed.csv', encoding=\"utf-8\", on_bad_lines='skip')\n"
     ]
    }
   ],
   "source": [
    "df_chiba = pd.read_csv('../data/chiba_20071_20234_preprocessed.csv', encoding=\"utf-8\", on_bad_lines='skip')\n",
    "df_tokyo = pd.read_csv('../data/tokyo_20071_20234_preprocessed.csv', encoding=\"utf-8\", on_bad_lines='skip')"
   ]
  },
  {
   "cell_type": "code",
   "execution_count": 3,
   "id": "a21dd39a",
   "metadata": {},
   "outputs": [
    {
     "data": {
      "text/html": [
       "<div>\n",
       "<style scoped>\n",
       "    .dataframe tbody tr th:only-of-type {\n",
       "        vertical-align: middle;\n",
       "    }\n",
       "\n",
       "    .dataframe tbody tr th {\n",
       "        vertical-align: top;\n",
       "    }\n",
       "\n",
       "    .dataframe thead th {\n",
       "        text-align: right;\n",
       "    }\n",
       "</style>\n",
       "<table border=\"1\" class=\"dataframe\">\n",
       "  <thead>\n",
       "    <tr style=\"text-align: right;\">\n",
       "      <th></th>\n",
       "      <th>種類</th>\n",
       "      <th>都道府県名</th>\n",
       "      <th>市区町村名</th>\n",
       "      <th>地区名</th>\n",
       "      <th>最寄駅：名称</th>\n",
       "      <th>最寄駅：距離（分）</th>\n",
       "      <th>取引価格（総額）</th>\n",
       "      <th>間取り</th>\n",
       "      <th>面積（㎡）</th>\n",
       "      <th>建築年</th>\n",
       "      <th>取引時期</th>\n",
       "      <th>取引時期（年）</th>\n",
       "      <th>築年数</th>\n",
       "    </tr>\n",
       "  </thead>\n",
       "  <tbody>\n",
       "    <tr>\n",
       "      <th>0</th>\n",
       "      <td>中古マンション等</td>\n",
       "      <td>千葉県</td>\n",
       "      <td>千葉市中央区</td>\n",
       "      <td>新宿</td>\n",
       "      <td>千葉</td>\n",
       "      <td>11</td>\n",
       "      <td>3600.0</td>\n",
       "      <td>３ＬＤＫ</td>\n",
       "      <td>90</td>\n",
       "      <td>2005</td>\n",
       "      <td>2021年第1四半期</td>\n",
       "      <td>2021</td>\n",
       "      <td>19</td>\n",
       "    </tr>\n",
       "    <tr>\n",
       "      <th>1</th>\n",
       "      <td>中古マンション等</td>\n",
       "      <td>千葉県</td>\n",
       "      <td>千葉市中央区</td>\n",
       "      <td>新宿</td>\n",
       "      <td>千葉中央</td>\n",
       "      <td>4</td>\n",
       "      <td>3700.0</td>\n",
       "      <td>３ＬＤＫ</td>\n",
       "      <td>90</td>\n",
       "      <td>2007</td>\n",
       "      <td>2021年第1四半期</td>\n",
       "      <td>2021</td>\n",
       "      <td>17</td>\n",
       "    </tr>\n",
       "  </tbody>\n",
       "</table>\n",
       "</div>"
      ],
      "text/plain": [
       "         種類 都道府県名   市区町村名 地区名 最寄駅：名称 最寄駅：距離（分）  取引価格（総額）   間取り  面積（㎡）   建築年  \\\n",
       "0  中古マンション等   千葉県  千葉市中央区  新宿     千葉        11    3600.0  ３ＬＤＫ     90  2005   \n",
       "1  中古マンション等   千葉県  千葉市中央区  新宿   千葉中央         4    3700.0  ３ＬＤＫ     90  2007   \n",
       "\n",
       "         取引時期  取引時期（年）  築年数  \n",
       "0  2021年第1四半期     2021   19  \n",
       "1  2021年第1四半期     2021   17  "
      ]
     },
     "execution_count": 3,
     "metadata": {},
     "output_type": "execute_result"
    }
   ],
   "source": [
    "df_chiba.head(2)"
   ]
  },
  {
   "cell_type": "code",
   "execution_count": 4,
   "id": "5a7645a6",
   "metadata": {},
   "outputs": [],
   "source": [
    "df_tokyo_filtered = df_tokyo[df_tokyo['市区町村名'] == \"千代田区\"]"
   ]
  },
  {
   "cell_type": "code",
   "execution_count": 10,
   "id": "af23f832",
   "metadata": {},
   "outputs": [],
   "source": [
    "#         area_yearly_average_price = df_filtered.groupby('取引時期（年）')['取引価格（総額）'].mean()\n",
    "#         area_yearly_count = df_filtered.groupby('取引時期（年）')['取引価格（総額）'].count()\n",
    "\n",
    "area_yearly_average_price = df_tokyo_filtered.groupby('取引時期（年）')['取引価格（総額）'].mean()\n",
    "area_yearly_count = df_tokyo_filtered.groupby('取引時期（年）')['取引価格（総額）'].count()"
   ]
  },
  {
   "cell_type": "code",
   "execution_count": 11,
   "id": "3f486d23",
   "metadata": {},
   "outputs": [
    {
     "data": {
      "text/plain": [
       "取引時期（年）\n",
       "2007    134\n",
       "2008    122\n",
       "2009    129\n",
       "2010    157\n",
       "2011    164\n",
       "Name: 取引価格（総額）, dtype: int64"
      ]
     },
     "execution_count": 11,
     "metadata": {},
     "output_type": "execute_result"
    }
   ],
   "source": [
    "area_yearly_count.head()"
   ]
  },
  {
   "cell_type": "code",
   "execution_count": 18,
   "id": "8c32a469",
   "metadata": {},
   "outputs": [],
   "source": [
    "plt.figure(figsize=(12, 8))\n",
    "ax1 = plt.gca()\n",
    "ax1.plot(area_yearly_average_price.index, area_yearly_average_price.values, color='red', label='Average Price')\n",
    "ax1.set_xlabel('Year')\n",
    "ax1.set_ylabel('平均取引価格（万円）', color='darkred')\n",
    "ax1.tick_params(axis='y', labelcolor='darkred')\n",
    "\n",
    "ax2 = ax1.twinx()\n",
    "ax2.bar(area_yearly_count.index, area_yearly_count.values, color='lightblue', label='Transaction Count', width=0.4)\n",
    "ax2.set_ylabel('取引回数', color='darkblue')\n",
    "ax2.tick_params(axis='y', labelcolor='darkblue')\n",
    "\n",
    "plt.title(f'Combined Trend of Housing Prices and Transaction Counts in Chiyoda')\n",
    "plt.grid(True)\n",
    "lines, labels = ax1.get_legend_handles_labels()\n",
    "lines2, labels2 = ax2.get_legend_handles_labels()\n",
    "ax2.legend(lines + lines2, labels + labels2, loc='upper left')\n",
    "plt.savefig(f'../data/output/tokyo_chiyoda.png')  # Save the figure\n",
    "plt.close()  # Close the figure to free memory"
   ]
  },
  {
   "cell_type": "code",
   "execution_count": null,
   "id": "6e5db9bf",
   "metadata": {},
   "outputs": [],
   "source": []
  }
 ],
 "metadata": {
  "kernelspec": {
   "display_name": "Python 3 (ipykernel)",
   "language": "python",
   "name": "python3"
  },
  "language_info": {
   "codemirror_mode": {
    "name": "ipython",
    "version": 3
   },
   "file_extension": ".py",
   "mimetype": "text/x-python",
   "name": "python",
   "nbconvert_exporter": "python",
   "pygments_lexer": "ipython3",
   "version": "3.10.6"
  },
  "toc": {
   "base_numbering": 1,
   "nav_menu": {},
   "number_sections": true,
   "sideBar": true,
   "skip_h1_title": false,
   "title_cell": "Table of Contents",
   "title_sidebar": "Contents",
   "toc_cell": false,
   "toc_position": {},
   "toc_section_display": true,
   "toc_window_display": false
  }
 },
 "nbformat": 4,
 "nbformat_minor": 5
}

{
 "cells": [
  {
   "cell_type": "code",
   "execution_count": 11,
   "id": "8149f5e0",
   "metadata": {},
   "outputs": [],
   "source": [
    "import pandas as pd\n",
    "import numpy as np\n",
    "import matplotlib.pyplot as plt\n",
    "import japanize_matplotlib\n",
    "from matplotlib.ticker import MaxNLocator"
   ]
  },
  {
   "cell_type": "code",
   "execution_count": 5,
   "id": "4dd97ddd",
   "metadata": {},
   "outputs": [
    {
     "name": "stderr",
     "output_type": "stream",
     "text": [
      "/var/folders/_n/cr9xqtgn70g_tclcyk9hd0nw0000gn/T/ipykernel_14027/900451068.py:1: DtypeWarning: Columns (8) have mixed types. Specify dtype option on import or set low_memory=False.\n",
      "  df_tokyo = pd.read_csv('../data/tokyo_20071_20234_preprocessed.csv', encoding=\"utf-8\", on_bad_lines='skip')\n"
     ]
    }
   ],
   "source": [
    "df_tokyo = pd.read_csv('../data/tokyo_20071_20234_preprocessed.csv', encoding=\"utf-8\", on_bad_lines='skip')"
   ]
  },
  {
   "cell_type": "code",
   "execution_count": 20,
   "id": "5a7645a6",
   "metadata": {},
   "outputs": [],
   "source": [
    "# Tokyo Data in Japanese\n",
    "for area in df_tokyo['市区町村名'].unique():\n",
    "    df_tokyo_filtered = df_tokyo[df_tokyo['市区町村名'] == area]\n",
    "    area_yearly_average_price = df_tokyo_filtered.groupby('取引時期（年）')['取引価格（総額）'].mean()\n",
    "    area_yearly_count = df_tokyo_filtered.groupby('取引時期（年）')['取引価格（総額）'].count()\n",
    "    plt.figure(figsize=(12, 8))\n",
    "    ax1 = plt.gca()\n",
    "    ax1.plot(area_yearly_average_price.index, area_yearly_average_price.values, color='red', label='Average Price')\n",
    "    ax1.set_xlabel('Year')\n",
    "    ax1.set_ylabel('平均取引価格（万円）', color='darkred')\n",
    "    ax1.tick_params(axis='y', labelcolor='darkred')\n",
    "    ax1.xaxis.set_major_locator(MaxNLocator(integer=True))  # Ensuring x-axis labels are integers\n",
    "\n",
    "    ax2 = ax1.twinx()\n",
    "    ax2.bar(area_yearly_count.index, area_yearly_count.values, color='lightblue', label='Transaction Count', width=0.4, alpha=0.5)\n",
    "    ax2.set_ylabel('取引回数', color='darkblue')\n",
    "    ax2.tick_params(axis='y', labelcolor='darkblue')\n",
    "    \n",
    "    plt.title(f'{area}の平均取引価格と取引件数の推移')\n",
    "    plt.grid(True)\n",
    "    lines, labels = ax1.get_legend_handles_labels()\n",
    "    lines2, labels2 = ax2.get_legend_handles_labels()\n",
    "    ax2.legend(lines + lines2, labels + labels2, loc='upper left')\n",
    "    plt.savefig(f'../../../heysho/img/tool/house-trend/tokyo_{area}_jp.png')  # Save the figure\n",
    "    plt.close()  # Close the figure to free memory"
   ]
  },
  {
   "cell_type": "code",
   "execution_count": 16,
   "id": "af23f832",
   "metadata": {},
   "outputs": [],
   "source": [
    "df_chiba = pd.read_csv('../data/chiba_20071_20234_preprocessed.csv', encoding=\"utf-8\", on_bad_lines='skip')"
   ]
  },
  {
   "cell_type": "code",
   "execution_count": 25,
   "id": "8c32a469",
   "metadata": {},
   "outputs": [],
   "source": [
    "# Chiba Data in Japanese\n",
    "for area in df_chiba['市区町村名'].unique():\n",
    "    df_chiba_filtered = df_chiba[df_chiba['市区町村名'] == area]\n",
    "    area_yearly_average_price = df_chiba_filtered.groupby('取引時期（年）')['取引価格（総額）'].mean()\n",
    "    area_yearly_count = df_chiba_filtered.groupby('取引時期（年）')['取引価格（総額）'].count()\n",
    "    plt.figure(figsize=(12, 8))\n",
    "    ax1 = plt.gca()\n",
    "    ax1.plot(area_yearly_average_price.index, area_yearly_average_price.values, color='red', label='Average Price')\n",
    "    ax1.set_xlabel('Year')\n",
    "    ax1.set_ylabel('平均取引価格（万円）', color='darkred')\n",
    "    ax1.tick_params(axis='y', labelcolor='darkred')\n",
    "    ax1.xaxis.set_major_locator(MaxNLocator(integer=True))  # Ensuring x-axis labels are integers\n",
    "\n",
    "    ax2 = ax1.twinx()\n",
    "    ax2.bar(area_yearly_count.index, area_yearly_count.values, color='lightblue', label='Transaction Count', width=0.4, alpha=0.5)\n",
    "    ax2.set_ylabel('取引回数', color='darkblue')\n",
    "    ax2.tick_params(axis='y', labelcolor='darkblue')\n",
    "    \n",
    "    plt.title(f'{area}の平均取引価格と取引件数の推移')\n",
    "    plt.grid(True)\n",
    "    lines, labels = ax1.get_legend_handles_labels()\n",
    "    lines2, labels2 = ax2.get_legend_handles_labels()\n",
    "    ax2.legend(lines + lines2, labels + labels2, loc='upper left')\n",
    "    plt.savefig(f'../../../heysho/img/tool/house-trend/chiba_{area}_jp.png')  # Save the figure\n",
    "    plt.close()  # Close the figure to free memory"
   ]
  },
  {
   "cell_type": "code",
   "execution_count": 23,
   "id": "6e5db9bf",
   "metadata": {},
   "outputs": [],
   "source": [
    "# Tokyo Data in English\n",
    "for area in df_tokyo['市区町村名'].unique():\n",
    "    df_tokyo_filtered = df_tokyo[df_tokyo['市区町村名'] == area]\n",
    "    area_yearly_average_price = df_tokyo_filtered.groupby('取引時期（年）')['取引価格（総額）'].mean()\n",
    "    area_yearly_count = df_tokyo_filtered.groupby('取引時期（年）')['取引価格（総額）'].count()\n",
    "    plt.figure(figsize=(12, 8))\n",
    "    ax1 = plt.gca()\n",
    "    ax1.plot(area_yearly_average_price.index, area_yearly_average_price.values, color='red', label='Average Price')\n",
    "    ax1.set_xlabel('Year')\n",
    "    ax1.set_ylabel('Average Transaction Price（万円）', color='darkred')\n",
    "    ax1.tick_params(axis='y', labelcolor='darkred')\n",
    "    ax1.xaxis.set_major_locator(MaxNLocator(integer=True))  # Ensuring x-axis labels are integers\n",
    "\n",
    "    ax2 = ax1.twinx()\n",
    "    ax2.bar(area_yearly_count.index, area_yearly_count.values, color='lightblue', label='Transaction Count', width=0.4, alpha=0.5)\n",
    "    ax2.set_ylabel('Number of transactions', color='darkblue')\n",
    "    ax2.tick_params(axis='y', labelcolor='darkblue')\n",
    "    \n",
    "    plt.title(f'The trend of the average transaction price and the number of transactions in {area}')\n",
    "    plt.grid(True)\n",
    "    lines, labels = ax1.get_legend_handles_labels()\n",
    "    lines2, labels2 = ax2.get_legend_handles_labels()\n",
    "    ax2.legend(lines + lines2, labels + labels2, loc='upper left')\n",
    "    plt.savefig(f'../../../heysho/img/tool/house-trend/tokyo_{area}_en.png')  # Save the figure\n",
    "    plt.close()  # Close the figure to free memory"
   ]
  },
  {
   "cell_type": "code",
   "execution_count": 26,
   "id": "0c607843",
   "metadata": {},
   "outputs": [],
   "source": [
    "# Chiba Data in English\n",
    "for area in df_chiba['市区町村名'].unique():\n",
    "    df_chiba_filtered = df_chiba[df_chiba['市区町村名'] == area]\n",
    "    area_yearly_average_price = df_chiba_filtered.groupby('取引時期（年）')['取引価格（総額）'].mean()\n",
    "    area_yearly_count = df_chiba_filtered.groupby('取引時期（年）')['取引価格（総額）'].count()\n",
    "    plt.figure(figsize=(12, 8))\n",
    "    ax1 = plt.gca()\n",
    "    ax1.plot(area_yearly_average_price.index, area_yearly_average_price.values, color='red', label='Average Price')\n",
    "    ax1.set_xlabel('Year')\n",
    "    ax1.set_ylabel('Average Transaction Price（万円）', color='darkred')\n",
    "    ax1.tick_params(axis='y', labelcolor='darkred')\n",
    "    ax1.xaxis.set_major_locator(MaxNLocator(integer=True))  # Ensuring x-axis labels are integers\n",
    "\n",
    "    ax2 = ax1.twinx()\n",
    "    ax2.bar(area_yearly_count.index, area_yearly_count.values, color='lightblue', label='Transaction Count', width=0.4, alpha=0.5)\n",
    "    ax2.set_ylabel('Number of transactions', color='darkblue')\n",
    "    ax2.tick_params(axis='y', labelcolor='darkblue')\n",
    "    \n",
    "    plt.title(f'The trend of the average transaction price and the number of transactions in {area}')\n",
    "    plt.grid(True)\n",
    "    lines, labels = ax1.get_legend_handles_labels()\n",
    "    lines2, labels2 = ax2.get_legend_handles_labels()\n",
    "    ax2.legend(lines + lines2, labels + labels2, loc='upper left')\n",
    "    plt.savefig(f'../../../heysho/img/tool/house-trend/chiba_{area}_en.png')  # Save the figure\n",
    "    plt.close()  # Close the figure to free memory"
   ]
  },
  {
   "cell_type": "code",
   "execution_count": null,
   "id": "760f7184",
   "metadata": {},
   "outputs": [],
   "source": []
  }
 ],
 "metadata": {
  "kernelspec": {
   "display_name": "Python 3 (ipykernel)",
   "language": "python",
   "name": "python3"
  },
  "language_info": {
   "codemirror_mode": {
    "name": "ipython",
    "version": 3
   },
   "file_extension": ".py",
   "mimetype": "text/x-python",
   "name": "python",
   "nbconvert_exporter": "python",
   "pygments_lexer": "ipython3",
   "version": "3.10.6"
  },
  "toc": {
   "base_numbering": 1,
   "nav_menu": {},
   "number_sections": true,
   "sideBar": true,
   "skip_h1_title": false,
   "title_cell": "Table of Contents",
   "title_sidebar": "Contents",
   "toc_cell": false,
   "toc_position": {},
   "toc_section_display": true,
   "toc_window_display": false
  }
 },
 "nbformat": 4,
 "nbformat_minor": 5
}
